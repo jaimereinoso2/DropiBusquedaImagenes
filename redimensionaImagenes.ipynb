{
 "cells": [
  {
   "cell_type": "code",
   "execution_count": 1,
   "metadata": {},
   "outputs": [],
   "source": [
    "import os\n",
    "import cv2\n",
    "import numpy as np\n",
    "from tensorflow.keras.applications.vgg16 import preprocess_input\n",
    "from PIL import Image"
   ]
  },
  {
   "cell_type": "code",
   "execution_count": 2,
   "metadata": {},
   "outputs": [],
   "source": [
    "\n",
    "\n",
    "# Función para procesar una imagen\n",
    "def process_image(img_path):\n",
    "    # Cargar la imagen con OpenCV\n",
    "    img = cv2.imread(img_path)\n",
    "    \n",
    "    # Verificar si la imagen se ha cargado correctamente\n",
    "    if img is None:\n",
    "        raise ValueError(f\"No se pudo cargar la imagen: {img_path}\")\n",
    "    \n",
    "    # Redimensionar la imagen a 224x224 píxeles\n",
    "    img = cv2.resize(img, (224, 224))\n",
    "    \n",
    "    # Convertir la imagen de BGR (OpenCV) a RGB (VGG16 lo necesita en RGB)\n",
    "    img = cv2.cvtColor(img, cv2.COLOR_BGR2RGB)\n",
    "    \n",
    "    # Preprocesar la imagen para VGG16 (normalización)\n",
    "    img = preprocess_input(img)\n",
    "    \n",
    "    return img\n",
    "\n",
    "# Función para procesar todas las imágenes de una carpeta y guardarlas en otra carpeta\n",
    "def process_images_in_folder(input_folder, output_folder):\n",
    "    # Crear la carpeta de salida si no existe\n",
    "    if not os.path.exists(output_folder):\n",
    "        os.makedirs(output_folder)\n",
    "    \n",
    "    # Iterar sobre todas las imágenes de la carpeta de entrada\n",
    "    for img_name in os.listdir(input_folder):\n",
    "        img_path = os.path.join(input_folder, img_name)\n",
    "        \n",
    "        # Verificar si es un archivo de imagen\n",
    "        if os.path.isfile(img_path):\n",
    "            try:\n",
    "                # Procesar la imagen\n",
    "                processed_img = process_image(img_path)\n",
    "                \n",
    "                # Convertir el array de imagen preprocesada a formato de imagen para guardar\n",
    "                processed_img = (processed_img + 1) * 127.5  # Invertir el preprocess_input\n",
    "                processed_img = processed_img.astype(np.uint8)\n",
    "                \n",
    "                # Convertir el array a imagen de PIL para guardar\n",
    "                img_pil = Image.fromarray(processed_img)\n",
    "                \n",
    "                # Guardar la imagen procesada en la carpeta de salida\n",
    "                output_path = os.path.join(output_folder, img_name)\n",
    "                img_pil.save(output_path)\n",
    "                \n",
    "                print(f\"Procesada y guardada: {output_path}\")\n",
    "            except Exception as e:\n",
    "                print(f\"Error al procesar la imagen {img_name}: {e}\")\n",
    "\n",
    "\n"
   ]
  },
  {
   "cell_type": "code",
   "execution_count": 5,
   "metadata": {},
   "outputs": [
    {
     "name": "stdout",
     "output_type": "stream",
     "text": [
      "Error al procesar la imagen .DS_Store: No se pudo cargar la imagen: ./imagenesOriginales/.DS_Store\n",
      "Procesada y guardada: ./imagenesBaseDeDatos/reloj1.jpeg\n",
      "Procesada y guardada: ./imagenesBaseDeDatos/reloj2.jpg\n",
      "Procesada y guardada: ./imagenesBaseDeDatos/reloj3.jpg\n",
      "Procesada y guardada: ./imagenesBaseDeDatos/reloj0.jpg\n",
      "Procesada y guardada: ./imagenesBaseDeDatos/reloj7.jpg\n",
      "Procesada y guardada: ./imagenesBaseDeDatos/reloj6.jpg\n",
      "Procesada y guardada: ./imagenesBaseDeDatos/reloj9.jpeg\n",
      "Procesada y guardada: ./imagenesBaseDeDatos/reloj5.jpeg\n",
      "Procesada y guardada: ./imagenesBaseDeDatos/reloj4.jpeg\n",
      "Procesada y guardada: ./imagenesBaseDeDatos/reloj8.jpeg\n"
     ]
    }
   ],
   "source": [
    "# Carpeta de entrada y de salida\n",
    "input_folder = './imagenesOriginales'  # Cambia esta ruta por la de tu carpeta de imágenes\n",
    "output_folder = './imagenesBaseDeDatos'  # Carpeta donde se guardarán las imágenes preprocesadas\n",
    "\n",
    "# Procesar las imágenes de la carpeta\n",
    "process_images_in_folder(input_folder, output_folder)"
   ]
  },
  {
   "cell_type": "code",
   "execution_count": null,
   "metadata": {},
   "outputs": [],
   "source": []
  }
 ],
 "metadata": {
  "kernelspec": {
   "display_name": "venv",
   "language": "python",
   "name": "python3"
  },
  "language_info": {
   "codemirror_mode": {
    "name": "ipython",
    "version": 3
   },
   "file_extension": ".py",
   "mimetype": "text/x-python",
   "name": "python",
   "nbconvert_exporter": "python",
   "pygments_lexer": "ipython3",
   "version": "3.11.5"
  }
 },
 "nbformat": 4,
 "nbformat_minor": 2
}
