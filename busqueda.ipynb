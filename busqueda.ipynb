{
 "cells": [
  {
   "cell_type": "code",
   "execution_count": 8,
   "metadata": {},
   "outputs": [],
   "source": [
    "# ! pip install tensorflow-macos\n",
    "# ! pip install tensorflow-metal\n",
    "# !pip install opencv-python\n",
    "# !pip install Pillow\n"
   ]
  },
  {
   "cell_type": "code",
   "execution_count": 9,
   "metadata": {},
   "outputs": [],
   "source": [
    "import numpy as np\n",
    "import cv2\n",
    "from tensorflow.keras.applications import VGG16\n",
    "from tensorflow.keras.applications.vgg16 import preprocess_input\n",
    "from tensorflow.keras.models import Model\n",
    "from tensorflow.keras.preprocessing import image\n",
    "import os"
   ]
  },
  {
   "cell_type": "markdown",
   "metadata": {},
   "source": [
    "# **1. Cargar el modelo VGG16 preentrenado, sin la capa superior**"
   ]
  },
  {
   "cell_type": "code",
   "execution_count": 10,
   "metadata": {},
   "outputs": [],
   "source": [
    "import numpy as np\n",
    "import os\n",
    "import cv2\n",
    "from tensorflow.keras.applications import VGG16\n",
    "from tensorflow.keras.applications.vgg16 import preprocess_input\n",
    "from tensorflow.keras.models import Model\n",
    "from tensorflow.keras.preprocessing import image\n",
    "from scipy.spatial.distance import cosine\n"
   ]
  },
  {
   "cell_type": "code",
   "execution_count": 11,
   "metadata": {},
   "outputs": [],
   "source": [
    "# Ruta al archivo de pesos local\n",
    "local_weights_file = './pesos/vgg16_weights_tf_dim_ordering_tf_kernels.h5'\n",
    "\n",
    "base_model = VGG16(weights=None)  # No cargar los pesos predefinidos\n",
    "base_model.load_weights(local_weights_file)  # Cargar los pesos d"
   ]
  },
  {
   "cell_type": "code",
   "execution_count": 12,
   "metadata": {},
   "outputs": [],
   "source": [
    "# Usamos la capa 'fc1' para extraer características\n",
    "model = Model(inputs=base_model.input, outputs=base_model.get_layer('fc1').output)"
   ]
  },
  {
   "cell_type": "code",
   "execution_count": 13,
   "metadata": {},
   "outputs": [],
   "source": [
    "# Función para procesar imágenes\n",
    "def process_image(img_path):\n",
    "    img = image.load_img(img_path, target_size=(224, 224))\n",
    "    img_data = image.img_to_array(img)\n",
    "    img_data = np.expand_dims(img_data, axis=0)\n",
    "    img_data = preprocess_input(img_data)\n",
    "    return img_data\n",
    "\n",
    "# Función para extraer características de una imagen\n",
    "def extract_features(img_path):\n",
    "    img_data = process_image(img_path)\n",
    "    features = model.predict(img_data)\n",
    "    return features.flatten()\n",
    "\n",
    "# Función para encontrar la imagen más similar en la carpeta\n",
    "def find_most_similar_image(query_img_path, image_dir):\n",
    "    query_features = extract_features(query_img_path)\n",
    "    min_distance = float('inf')\n",
    "    most_similar_image = None\n",
    "    \n",
    "    for img_name in os.listdir(image_dir):\n",
    "        img_path = os.path.join(image_dir, img_name)\n",
    "        if os.path.isfile(img_path):\n",
    "            features = extract_features(img_path)\n",
    "            distance = cosine(query_features, features)  # Usamos distancia coseno para comparar\n",
    "            if distance < min_distance:\n",
    "                min_distance = distance\n",
    "                most_similar_image = img_path\n",
    "    \n",
    "    return most_similar_image, min_distance"
   ]
  },
  {
   "cell_type": "code",
   "execution_count": 16,
   "metadata": {},
   "outputs": [
    {
     "name": "stdout",
     "output_type": "stream",
     "text": [
      "\u001b[1m1/1\u001b[0m \u001b[32m━━━━━━━━━━━━━━━━━━━━\u001b[0m\u001b[37m\u001b[0m \u001b[1m0s\u001b[0m 15ms/step\n",
      "\u001b[1m1/1\u001b[0m \u001b[32m━━━━━━━━━━━━━━━━━━━━\u001b[0m\u001b[37m\u001b[0m \u001b[1m0s\u001b[0m 11ms/step\n",
      "\u001b[1m1/1\u001b[0m \u001b[32m━━━━━━━━━━━━━━━━━━━━\u001b[0m\u001b[37m\u001b[0m \u001b[1m0s\u001b[0m 10ms/step\n",
      "\u001b[1m1/1\u001b[0m \u001b[32m━━━━━━━━━━━━━━━━━━━━\u001b[0m\u001b[37m\u001b[0m \u001b[1m0s\u001b[0m 10ms/step\n",
      "\u001b[1m1/1\u001b[0m \u001b[32m━━━━━━━━━━━━━━━━━━━━\u001b[0m\u001b[37m\u001b[0m \u001b[1m0s\u001b[0m 9ms/step\n",
      "\u001b[1m1/1\u001b[0m \u001b[32m━━━━━━━━━━━━━━━━━━━━\u001b[0m\u001b[37m\u001b[0m \u001b[1m0s\u001b[0m 9ms/step\n",
      "\u001b[1m1/1\u001b[0m \u001b[32m━━━━━━━━━━━━━━━━━━━━\u001b[0m\u001b[37m\u001b[0m \u001b[1m0s\u001b[0m 9ms/step\n",
      "\u001b[1m1/1\u001b[0m \u001b[32m━━━━━━━━━━━━━━━━━━━━\u001b[0m\u001b[37m\u001b[0m \u001b[1m0s\u001b[0m 9ms/step\n",
      "\u001b[1m1/1\u001b[0m \u001b[32m━━━━━━━━━━━━━━━━━━━━\u001b[0m\u001b[37m\u001b[0m \u001b[1m0s\u001b[0m 9ms/step\n",
      "\u001b[1m1/1\u001b[0m \u001b[32m━━━━━━━━━━━━━━━━━━━━\u001b[0m\u001b[37m\u001b[0m \u001b[1m0s\u001b[0m 9ms/step\n",
      "La imagen más similar es: ./imagenesBaseDeDatos/reloj6.jpg con una distancia de similitud de: 0.35836117705378834\n"
     ]
    }
   ],
   "source": [
    "# Ruta de la carpeta con imágenes\n",
    "image_dir = './imagenesBaseDeDatos'\n",
    "\n",
    "# Ruta de la imagen que quieres comparar\n",
    "query_img_path = './reloj0.jpg'\n",
    "\n",
    "# Encontrar la imagen más similar\n",
    "similar_image, similarity_score = find_most_similar_image(query_img_path, image_dir)\n",
    "\n",
    "print(f\"La imagen más similar es: {similar_image} con una distancia de similitud de: {similarity_score}\")\n",
    "\n",
    "# Opcional: Mostrar la imagen original y la imagen más similar\n",
    "query_img = cv2.imread(query_img_path)\n",
    "similar_img = cv2.imread(similar_image)\n",
    "\n",
    "cv2.imshow(\"Imagen Original\", query_img)\n",
    "cv2.imshow(\"Imagen Más Similar\", similar_img)\n",
    "cv2.waitKey(1000)\n",
    "cv2.destroyAllWindows()\n",
    "\n"
   ]
  },
  {
   "cell_type": "code",
   "execution_count": null,
   "metadata": {},
   "outputs": [],
   "source": []
  }
 ],
 "metadata": {
  "kernelspec": {
   "display_name": "venv",
   "language": "python",
   "name": "python3"
  },
  "language_info": {
   "codemirror_mode": {
    "name": "ipython",
    "version": 3
   },
   "file_extension": ".py",
   "mimetype": "text/x-python",
   "name": "python",
   "nbconvert_exporter": "python",
   "pygments_lexer": "ipython3",
   "version": "3.11.5"
  }
 },
 "nbformat": 4,
 "nbformat_minor": 2
}
